{
  "nbformat": 4,
  "nbformat_minor": 0,
  "metadata": {
    "colab": {
      "name": "Submission.ipynb",
      "provenance": [],
      "collapsed_sections": [],
      "machine_shape": "hm"
    },
    "kernelspec": {
      "name": "python3",
      "display_name": "Python 3"
    }
  },
  "cells": [
    {
      "cell_type": "code",
      "metadata": {
        "id": "UeCECfb0uYsk",
        "colab_type": "code",
        "outputId": "64edfbb1-e9b2-4962-9295-7979f87d9d62",
        "colab": {
          "base_uri": "https://localhost:8080/",
          "height": 34
        }
      },
      "source": [
        "from cross_entropy import Cross_Entropy\n",
        "from lag import LAG\n",
        "from llsr import LLSR as myLLSR\n",
        "from pixelhop2 import Pixelhop2\n",
        "from torchvision import transforms, datasets\n",
        "import numpy as np\n",
        "import matplotlib.pyplot as plt\n",
        "from sklearn.model_selection import train_test_split\n",
        "import keras\n",
        "from keras.datasets import cifar10\n",
        "from skimage.util import view_as_windows\n",
        "from skimage.measure import block_reduce\n",
        "from sklearn import datasets\n",
        "import pickle\n",
        "from numpy import save\n",
        "from numpy import load\n",
        "from sklearn.ensemble import RandomForestClassifier\n",
        "from sklearn.metrics import accuracy_score\n",
        "from sklearn.ensemble import GradientBoostingClassifier, RandomForestClassifier\n",
        "import xgboost as xgb\n"
      ],
      "execution_count": 0,
      "outputs": [
        {
          "output_type": "stream",
          "text": [
            "Using TensorFlow backend.\n"
          ],
          "name": "stderr"
        }
      ]
    },
    {
      "cell_type": "code",
      "metadata": {
        "id": "_4Ipatha0TXo",
        "colab_type": "code",
        "outputId": "84c48e42-6f39-44f7-82d1-5b1b9c28a588",
        "colab": {
          "base_uri": "https://localhost:8080/",
          "height": 124
        }
      },
      "source": [
        "#from google.colab import drive\n",
        "#drive.mount('/content/drive')"
      ],
      "execution_count": 0,
      "outputs": [
        {
          "output_type": "stream",
          "text": [
            "Go to this URL in a browser: https://accounts.google.com/o/oauth2/auth?client_id=947318989803-6bn6qk8qdgf4n4g3pfee6491hc0brc4i.apps.googleusercontent.com&redirect_uri=urn%3aietf%3awg%3aoauth%3a2.0%3aoob&response_type=code&scope=email%20https%3a%2f%2fwww.googleapis.com%2fauth%2fdocs.test%20https%3a%2f%2fwww.googleapis.com%2fauth%2fdrive%20https%3a%2f%2fwww.googleapis.com%2fauth%2fdrive.photos.readonly%20https%3a%2f%2fwww.googleapis.com%2fauth%2fpeopleapi.readonly\n",
            "\n",
            "Enter your authorization code:\n",
            "··········\n",
            "Mounted at /content/drive\n"
          ],
          "name": "stdout"
        }
      ]
    },
    {
      "cell_type": "code",
      "metadata": {
        "id": "74obzTRBvgHu",
        "colab_type": "code",
        "outputId": "08a334ed-28a7-44ba-f5c9-6007864b48f7",
        "colab": {
          "base_uri": "https://localhost:8080/",
          "height": 121
        }
      },
      "source": [
        "(training, trainLabel),(testing, testLabel) = cifar10.load_data()\n",
        "\n",
        "#Remove Before Submitting\n",
        "#print(training.shape)\n",
        "#print(trainLabel.shape)\n",
        "#print(testing.shape)\n",
        "#print(testLabel.shape)"
      ],
      "execution_count": 0,
      "outputs": [
        {
          "output_type": "stream",
          "text": [
            "Downloading data from https://www.cs.toronto.edu/~kriz/cifar-10-python.tar.gz\n",
            "170500096/170498071 [==============================] - 6s 0us/step\n",
            "(50000, 32, 32, 3)\n",
            "(50000, 1)\n",
            "(10000, 32, 32, 3)\n",
            "(10000, 1)\n"
          ],
          "name": "stdout"
        }
      ]
    },
    {
      "cell_type": "code",
      "metadata": {
        "id": "ocWKIRI1wAMf",
        "colab_type": "code",
        "colab": {}
      },
      "source": [
        "#Conver the data to float and normalize it to values in between (0-1)\n",
        "training = (training.astype('float'))\n",
        "testing = (testing.astype('float'))\n",
        "training /= 255.0\n",
        "testing /= 255.0\n",
        "#Mean-SD normalization\n",
        "avg = np.mean(training, axis=0)\n",
        "SD = np.std(training, axis=0)\n",
        "training -= avg\n",
        "testing -= avg\n",
        "training /= SD\n",
        "testing /= SD"
      ],
      "execution_count": 0,
      "outputs": []
    },
    {
      "cell_type": "code",
      "metadata": {
        "id": "mZAlNWOwxAl3",
        "colab_type": "code",
        "colab": {}
      },
      "source": [
        "#Create New data for Training PixelHop Unit\n",
        "X_new_training, X_rest, X_new_label, X_rest_label = train_test_split(training, trainLabel, test_size = 0.8, random_state = 0, stratify = trainLabel)"
      ],
      "execution_count": 0,
      "outputs": []
    },
    {
      "cell_type": "code",
      "metadata": {
        "id": "nuXaWtXmxmL5",
        "colab_type": "code",
        "colab": {}
      },
      "source": [
        "#Constructing the neighborhood\n",
        "def Shrink(X_new_training, shrinkArg):\n",
        "  win = shrinkArg['win']\n",
        "  stride = shrinkArg['stride']\n",
        "  ch = X_new_training.shape[-1]\n",
        "  X_new_training = view_as_windows(X_new_training, (1,win,win,ch), (1, stride, stride,ch))\n",
        "  X_new_training = X_new_training.reshape(X_new_training.shape[0], X_new_training.shape[1], X_new_training.shape[2], -1)\n",
        "  X_pool = block_reduce(X_new_training, block_size = (1,2,2,1), func = np.max)\n",
        "  return X_pool\n",
        "\n",
        "def Concat(X_new_training, concatArg):\n",
        "  return X_new_training\n",
        "\n",
        "\n",
        "\n",
        "shrinkArgs = [{'func':Shrink, 'win':3, 'stride': 1},\n",
        "                {'func': Shrink, 'win':3, 'stride': 1}, \n",
        "                {'func': Shrink, 'win':3, 'stride': 1},\n",
        "              {'func': Shrink, 'win':3, 'stride': 1}]\n",
        "              \n",
        "SaabArgs = [{'num_AC_kernels':-1, 'needBias':False, 'useDC':True, 'batch':None, 'cw': False},\n",
        "            {'num_AC_kernels':-1, 'needBias':True, 'useDC':True, 'batch':None, 'cw': True}, \n",
        "            {'num_AC_kernels':-1, 'needBias':True, 'useDC':True, 'batch':None, 'cw': True},\n",
        "            {'num_AC_kernels':-1, 'needBias':True, 'useDC':True, 'batch':None, 'cw': True}]\n",
        "\n",
        "concatArg = {'func':Concat}"
      ],
      "execution_count": 0,
      "outputs": []
    },
    {
      "cell_type": "code",
      "metadata": {
        "id": "WAxOw_wSyO_Q",
        "colab_type": "code",
        "outputId": "96491bca-ceab-4d86-eb0a-0d32e3b57be6",
        "colab": {
          "base_uri": "https://localhost:8080/",
          "height": 121
        }
      },
      "source": [
        "p2 = Pixelhop2(depth=4, TH1=0.001, TH2=0.0001, SaabArgs=SaabArgs, shrinkArgs=shrinkArgs, concatArg=concatArg)\n",
        "p2.fit(X_new_training)\n",
        "#pickle.dump(p2, open('drive/My Drive/569_Competition/submission_pixelHop_4units.sav', 'wb'))\n",
        "# output = p2.transform(data_train)\n",
        "op1 = p2.transform(training[:10000,:,:])\n",
        "op2 = p2.transform(training[10000:20000,:,:])\n",
        "op3 = p2.transform(training[20000:30000,:,:])\n",
        "op4 = p2.transform(training[30000:40000,:,:])\n",
        "op5 = p2.transform(training[40000:50000,:,:])"
      ],
      "execution_count": 0,
      "outputs": [
        {
          "output_type": "stream",
          "text": [
            "pixelhop2 fit\n",
            "pixelhop2 transform\n",
            "pixelhop2 transform\n",
            "pixelhop2 transform\n",
            "pixelhop2 transform\n",
            "pixelhop2 transform\n"
          ],
          "name": "stdout"
        }
      ]
    },
    {
      "cell_type": "code",
      "metadata": {
        "id": "e5bxvcPe3bk-",
        "colab_type": "code",
        "outputId": "5c90ee64-4ffb-4422-a85f-ad568b97ed1c",
        "colab": {
          "base_uri": "https://localhost:8080/",
          "height": 34
        }
      },
      "source": [
        "ph_1 = np.concatenate((op1[0],op2[0],op3[0],op4[0],op5[0]))\n",
        "ph_2 = np.concatenate((op1[1],op2[1],op3[1],op4[1],op5[1]))\n",
        "ph_3 = np.concatenate((op1[2],op2[2],op3[2],op4[2],op5[2]))\n",
        "ph_4 = np.concatenate((op1[3],op2[3],op3[3],op4[3],op5[3]))\n",
        "#print(ph_1.shape, ph_2.shape, ph_3.shape,ph_4.shape )\n",
        "# print(output[0].shape, output[1].shape, output[2].shape)\n",
        "from numpy import save\n",
        "save('drive/My Drive/569_Competition/module10.npy', ph_1)\n",
        "save('drive/My Drive/569_Competition/module11.npy', ph_2)\n",
        "save('drive/My Drive/569_Competition/module12.npy', ph_3)\n",
        "save('drive/My Drive/569_Competition/module13.npy', ph_4)\n"
      ],
      "execution_count": 0,
      "outputs": [
        {
          "output_type": "stream",
          "text": [
            "(50000, 15, 15, 22) (50000, 7, 7, 85) (50000, 3, 3, 197) (50000, 1, 1, 385)\n"
          ],
          "name": "stdout"
        }
      ]
    },
    {
      "cell_type": "code",
      "metadata": {
        "id": "pAbuyzcQcGtp",
        "colab_type": "code",
        "outputId": "efeea58a-ec41-4843-fc7b-9bcf5ab8353a",
        "colab": {
          "base_uri": "https://localhost:8080/",
          "height": 34
        }
      },
      "source": [
        ""
      ],
      "execution_count": 0,
      "outputs": [
        {
          "output_type": "stream",
          "text": [
            "(50000, 15, 15, 22) (50000, 7, 7, 85) (50000, 3, 3, 197) (50000, 1, 1, 385)\n"
          ],
          "name": "stdout"
        }
      ]
    },
    {
      "cell_type": "code",
      "metadata": {
        "id": "iQOobvdQ4XH4",
        "colab_type": "code",
        "colab": {}
      },
      "source": [
        "from numpy import load\n",
        "ph_1 = load('drive/My Drive/569_Competition/module10.npy')\n",
        "ph_2 = load('drive/My Drive/569_Competition/module11.npy')\n",
        "ph_3 = load('drive/My Drive/569_Competition/module12.npy')\n",
        "ph_4 = load('drive/My Drive/569_Competition/module13.npy')\n",
        "\n",
        "p2 = pickle.load(open('drive/My Drive/569_Competition/submission_pixelHop_4units.sav', 'rb'))\n",
        "#m1 = module10.reshape((50000, -1))\n",
        "print(ph_1.shape)\n",
        "print(ph_2.shape)\n",
        "print(ph_3.shape)\n",
        "print(ph_4.shape)"
      ],
      "execution_count": 0,
      "outputs": []
    },
    {
      "cell_type": "code",
      "metadata": {
        "id": "0DbP03-o6IiR",
        "colab_type": "code",
        "outputId": "c7941576-dc82-4589-b8ea-927763cd1046",
        "colab": {
          "base_uri": "https://localhost:8080/",
          "height": 69
        }
      },
      "source": [
        "#Cross Entropy for Module 1\n",
        "reshape1 = ph_1.reshape((len(ph_1), -1))\n",
        "CrossEntropy = Cross_Entropy(num_class = 10, num_bin = 5)\n",
        "CEop1 = np.zeros((reshape1.shape[-1]))\n",
        "\n",
        "for i in range((reshape1.shape[-1])):\n",
        "  CEop1[i] = CrossEntropy.KMeans_Cross_Entropy(reshape1[:,i].reshape(-1,1), trainLabel)"
      ],
      "execution_count": 0,
      "outputs": [
        {
          "output_type": "stream",
          "text": [
            "input feature shape is: (50000, 4950)\n",
            "------CE_Module_1 Completed-----\n",
            "\n"
          ],
          "name": "stdout"
        }
      ]
    },
    {
      "cell_type": "code",
      "metadata": {
        "id": "BKhPLxxYAw79",
        "colab_type": "code",
        "colab": {}
      },
      "source": [
        "#save('drive/My Drive/569_Competition/Submission_ce_kmeans1_ph4.npy', CEop1)"
      ],
      "execution_count": 0,
      "outputs": []
    },
    {
      "cell_type": "code",
      "metadata": {
        "id": "nrfi7dD77hH9",
        "colab_type": "code",
        "outputId": "75f82328-d659-4755-caf2-072427d128ae",
        "colab": {
          "base_uri": "https://localhost:8080/",
          "height": 69
        }
      },
      "source": [
        "#Cross Entropy Module 2\n",
        "reshape2 = ph_2.reshape((len(ph_2), -1)) \n",
        "CrossEntropy = Cross_Entropy(num_class = 10, num_bin = 5)\n",
        "CEop2 = np.zeros((reshape2.shape[-1]))\n",
        "\n",
        "for i in range((reshape2.shape[-1])):\n",
        "  CEop2[i] = CrossEntropy.KMeans_Cross_Entropy(reshape2[:,i].reshape(-1,1), trainLabel)"
      ],
      "execution_count": 16,
      "outputs": [
        {
          "output_type": "stream",
          "text": [
            "input feature shape is: (50000, 4165)\n",
            "CE_Module_2 Completed\n",
            "\n"
          ],
          "name": "stdout"
        }
      ]
    },
    {
      "cell_type": "code",
      "metadata": {
        "id": "f7fqP2l2Ad3u",
        "colab_type": "code",
        "colab": {}
      },
      "source": [
        "#save('drive/My Drive/569_Competition/Submission_ce_kmeans2_ph4.npy', CEop2)"
      ],
      "execution_count": 0,
      "outputs": []
    },
    {
      "cell_type": "code",
      "metadata": {
        "id": "TelJaCmD_ryX",
        "colab_type": "code",
        "outputId": "a08324d1-f913-4014-8858-0f636df5a7be",
        "colab": {
          "base_uri": "https://localhost:8080/",
          "height": 69
        }
      },
      "source": [
        "#Cross Entropy Module 3\n",
        "reshape3 = ph_3.reshape((len(ph_3), -1))\n",
        "CrossEntropy = Cross_Entropy(num_class = 10, num_bin = 5)\n",
        "CEop3 = np.zeros((reshape3.shape[-1]))\n",
        "\n",
        "for i in range((reshape3.shape[-1])):\n",
        "  CEop3[i] = CrossEntropy.KMeans_Cross_Entropy(reshape3[:,i].reshape(-1,1), trainLabel)\n"
      ],
      "execution_count": 18,
      "outputs": [
        {
          "output_type": "stream",
          "text": [
            "input feature shape is: (50000, 1773)\n",
            "CE_Module_3 Completed\n",
            "\n"
          ],
          "name": "stdout"
        }
      ]
    },
    {
      "cell_type": "code",
      "metadata": {
        "id": "XeIGjeGmAqze",
        "colab_type": "code",
        "colab": {}
      },
      "source": [
        "#save('drive/My Drive/569_Competition/Submission_ce_kmeans3_ph4.npy', CEop3)"
      ],
      "execution_count": 0,
      "outputs": []
    },
    {
      "cell_type": "code",
      "metadata": {
        "id": "z2HAbXmStljY",
        "colab_type": "code",
        "colab": {
          "base_uri": "https://localhost:8080/",
          "height": 69
        },
        "outputId": "e718a27a-7bb3-44cb-8bc3-888ffe75529e"
      },
      "source": [
        "#Cross Entropy Module 4\n",
        "reshape4 = ph_4.reshape((len(ph_4), -1))\n",
        "CrossEntropy = Cross_Entropy(num_class = 10, num_bin = 5)\n",
        "CEop4 = np.zeros((reshape4.shape[-1]))\n",
        "for i in range((reshape4.shape[-1])):\n",
        "  CEop4[i] = CrossEntropy.KMeans_Cross_Entropy(reshape4[:,i].reshape(-1,1), trainLabel)\n"
      ],
      "execution_count": 20,
      "outputs": [
        {
          "output_type": "stream",
          "text": [
            "input feature shape is: (50000, 385)\n",
            "CE_Module_4 Completed\n",
            "\n"
          ],
          "name": "stdout"
        }
      ]
    },
    {
      "cell_type": "code",
      "metadata": {
        "id": "R9Hv1yW3uEHh",
        "colab_type": "code",
        "colab": {}
      },
      "source": [
        "#save('drive/My Drive/569_Competition/Submission_ce_kmeans4_ph4.npy', CEop4)"
      ],
      "execution_count": 0,
      "outputs": []
    },
    {
      "cell_type": "code",
      "metadata": {
        "id": "ck6e5hIIGU0t",
        "colab_type": "code",
        "colab": {}
      },
      "source": [
        "#Loading CE Model\n",
        "#CEop1 = load('drive/My Drive/569_Competition/Submission_ce_kmeans1_ph4.npy')\n",
        "#CEop2 = load('drive/My Drive/569_Competition/Submission_ce_kmeans1_ph4.npy')\n",
        "#CEop3 = load('drive/My Drive/569_Competition/Submission_ce_kmeans3_ph4.npy')\n",
        "#CEop4 = load('drive/My Drive/569_Competition/Submission_ce_kmeans4_ph4.npy')"
      ],
      "execution_count": 0,
      "outputs": []
    },
    {
      "cell_type": "code",
      "metadata": {
        "id": "vd0dNJdGBITI",
        "colab_type": "code",
        "outputId": "9fd14b01-6063-4f36-d6d2-148c73fcac35",
        "colab": {
          "base_uri": "https://localhost:8080/",
          "height": 52
        }
      },
      "source": [
        "#Using argsort to sort the cross entropy from lowest to highest\n",
        "index1 = np.argsort(CEop1)\n",
        "#Getting the indices of first 1000 values\n",
        "sorted1 = index1[:1000]\n",
        "#Selecting the corresponding features\n",
        "ph_1 = ph_1.reshape(len(ph_1),-1)\n",
        "m1 = (np.transpose(ph_1))\n",
        "inlag1 = m1[sorted1]\n",
        "inlag1 = inlag1.reshape(len(inlag1),-1)\n",
        "lag1_input=np.transpose(inlag1)\n",
        "lag1 = LAG(encode='distance', num_clusters = [5,5,5,5,5,5,5,5,5,5], alpha=10, learner=myLLSR(onehot=False))\n",
        "lag1.fit(lag1_input, trainLabel)\n",
        "#pickle.dump(lag1, open('drive/My Drive/569_Competition/lag1_model_ph4.sav', 'wb'))\n",
        "\n",
        "\n",
        "lag1_output = lag1.transform(lag1_input)\n",
        "lag1_output_prob = lag1.predict_proba(lag1_input)\n",
        "\n"
      ],
      "execution_count": 22,
      "outputs": [
        {
          "output_type": "stream",
          "text": [
            "Input of Lag 1:  (50000, 1000)\n",
            "Lag1 Output:  (50000, 50)\n"
          ],
          "name": "stdout"
        }
      ]
    },
    {
      "cell_type": "code",
      "metadata": {
        "id": "aB7uOWf2EtsN",
        "colab_type": "code",
        "colab": {}
      },
      "source": [
        "#save('drive/My Drive/569_Competition/Lag1_output_ph4.npy', lag1_output)"
      ],
      "execution_count": 0,
      "outputs": []
    },
    {
      "cell_type": "code",
      "metadata": {
        "id": "3_B9FtdBD4Hs",
        "colab_type": "code",
        "outputId": "d45cc0d5-2578-400b-f842-5bea48cda573",
        "colab": {
          "base_uri": "https://localhost:8080/",
          "height": 52
        }
      },
      "source": [
        "#Using argsort to sort the cross entropy from lowest to highest\n",
        "index2 = np.argsort(CEop2)\n",
        "#Getting the indices of first 1000 values\n",
        "sorted2 = index2[:1000]\n",
        "#Selecting the corresponding features\n",
        "ph_2 = ph_2.reshape(len(ph_2),-1)\n",
        "m2 = (np.transpose(ph_2))\n",
        "inlag2 = m2[sorted2]\n",
        "inlag2 = inlag2.reshape(len(inlag2),-1)\n",
        "lag2_input=np.transpose(inlag2)\n",
        "\n",
        "\n",
        "lag2 = LAG(encode='distance', num_clusters = [5,5,5,5,5,5,5,5,5,5], alpha=10, learner=myLLSR(onehot=False))\n",
        "lag2.fit(lag2_input, trainLabel)\n",
        "#pickle.dump(lag2, open('drive/My Drive/569_Competition/lag2_model_ph4.sav', 'wb'))\n",
        "\n",
        "\n",
        "lag2_output = lag2.transform(lag2_input)\n",
        "lag2_output_prob = lag2.predict_proba(lag2_input)"
      ],
      "execution_count": 25,
      "outputs": [
        {
          "output_type": "stream",
          "text": [
            "Input of Lag 2:  (50000, 1000)\n",
            "Lag2 Output:  (50000, 50)\n"
          ],
          "name": "stdout"
        }
      ]
    },
    {
      "cell_type": "code",
      "metadata": {
        "id": "MNSx9pBYE25P",
        "colab_type": "code",
        "colab": {}
      },
      "source": [
        "#save('drive/My Drive/569_Competition/Lag2_output_ph4.npy', lag2_output)"
      ],
      "execution_count": 0,
      "outputs": []
    },
    {
      "cell_type": "code",
      "metadata": {
        "id": "_c4_HYetFUaG",
        "colab_type": "code",
        "outputId": "74562995-143e-47cb-94e6-c79a21fda651",
        "colab": {
          "base_uri": "https://localhost:8080/",
          "height": 52
        }
      },
      "source": [
        "#Using argsort to sort the cross entropy from lowest to highest\n",
        "index3 = np.argsort(CEop3)\n",
        "#Getting the indices of first 1000 values\n",
        "sorted3 = index3[:1000]\n",
        "#Selecting the corresponding features\n",
        "ph_3 = ph_3.reshape(len(ph_3),-1)\n",
        "m3 = (np.transpose(ph_3))\n",
        "inlag3 = m3[sorted3]\n",
        "inlag3 = inlag3.reshape(len(inlag3),-1)\n",
        "lag3_input=np.transpose(inlag3)\n",
        "\n",
        "lag3 = LAG(encode='distance', num_clusters = [5,5,5,5,5,5,5,5,5,5], alpha=10, learner=myLLSR(onehot=False))\n",
        "lag3.fit(lag3_input, trainLabel)\n",
        "#pickle.dump(lag3, open('drive/My Drive/569_Competition/lag3_model_ph4.sav', 'wb'))\n",
        "\n",
        "\n",
        "lag3_output = lag3.transform(lag3_input)\n",
        "lag3_output_prob = lag3.predict_proba(lag3_input)"
      ],
      "execution_count": 27,
      "outputs": [
        {
          "output_type": "stream",
          "text": [
            "Input of Lag 3:  (50000, 1000)\n",
            "Lag3 Output:  (50000, 50)\n"
          ],
          "name": "stdout"
        }
      ]
    },
    {
      "cell_type": "code",
      "metadata": {
        "id": "DxRT3JcCH0_v",
        "colab_type": "code",
        "colab": {}
      },
      "source": [
        "#save('drive/My Drive/569_Competition/Lag3_output_ph4.npy', lag3_output)"
      ],
      "execution_count": 0,
      "outputs": []
    },
    {
      "cell_type": "code",
      "metadata": {
        "id": "JvQqso4VunLV",
        "colab_type": "code",
        "colab": {
          "base_uri": "https://localhost:8080/",
          "height": 52
        },
        "outputId": "08b3c050-40d8-492b-8273-a0157c7b732c"
      },
      "source": [
        "#Using argsort to sort the cross entropy from lowest to highest\n",
        "index4 = np.argsort(CEop4)\n",
        "#Getting the indices of first 1000 values\n",
        "sorted4 = index4[:1000]\n",
        "#Selecting the corresponding features\n",
        "ph_4 = ph_4.reshape(len(ph_4),-1)\n",
        "m4 = (np.transpose(ph_4))\n",
        "inlag4 = m4[sorted4]\n",
        "inlag4 = inlag4.reshape(len(inlag4),-1)\n",
        "lag4_input=np.transpose(inlag4)\n",
        "\n",
        "\n",
        "lag4 = LAG(encode='distance', num_clusters = [5,5,5,5,5,5,5,5,5,5], alpha=10, learner=myLLSR(onehot=False))\n",
        "lag4.fit(lag4_input, trainLabel)\n",
        "#pickle.dump(lag4, open('drive/My Drive/569_Competition/lag4_model_ph4.sav', 'wb'))\n",
        "\n",
        "\n",
        "lag4_output = lag4.transform(lag4_input)\n",
        "lag4_output_prob = lag4.predict_proba(lag4_input)\n"
      ],
      "execution_count": 30,
      "outputs": [
        {
          "output_type": "stream",
          "text": [
            "Input of Lag 4:  (50000, 385)\n",
            "Lag4 Output:  (50000, 50)\n"
          ],
          "name": "stdout"
        }
      ]
    },
    {
      "cell_type": "code",
      "metadata": {
        "id": "DZk0-780IIEC",
        "colab_type": "code",
        "outputId": "1c43e0d4-a00c-4e1f-898f-647ac5f31939",
        "colab": {
          "base_uri": "https://localhost:8080/",
          "height": 34
        }
      },
      "source": [
        "#Prepare data for Classification (Concate LAG outputs)\n",
        "\n",
        "FeatureMatrix_Train_ = np.concatenate((lag1_output,lag2_output,lag3_output, lag4_output),axis=1)\n",
        "#save('drive/My Drive/569_Competition/FeatureMatrixForTraining_ph4.npy', FeatureMatrix_Train_)"
      ],
      "execution_count": 32,
      "outputs": [
        {
          "output_type": "stream",
          "text": [
            "(50000, 200)\n"
          ],
          "name": "stdout"
        }
      ]
    },
    {
      "cell_type": "code",
      "metadata": {
        "id": "bdjqmGJ6IkEW",
        "colab_type": "code",
        "outputId": "d79c5ee9-529f-462a-9565-7a2584296bc8",
        "colab": {
          "base_uri": "https://localhost:8080/",
          "height": 173
        }
      },
      "source": [
        "#Prepare test data \n",
        "p2Test = p2.transform(testing)\n",
        "testPH1=p2Test[0].reshape(len(p2Test[0]),-1)\n",
        "testPH2=p2Test[1].reshape(len(p2Test[1]),-1)\n",
        "testPH3=p2Test[2].reshape(len(p2Test[2]),-1)\n",
        "testPH4=p2Test[3].reshape(len(p2Test[3]),-1)\n"
      ],
      "execution_count": 33,
      "outputs": [
        {
          "output_type": "stream",
          "text": [
            "pixelhop2 transform\n",
            "(10000, 15, 15, 22)\n",
            "(10000, 7, 7, 85)\n",
            "(10000, 3, 3, 197)\n",
            "(10000, 1, 1, 385)\n",
            "(10000, 4950)\n",
            "(10000, 4165)\n",
            "(10000, 1773)\n",
            "(10000, 385)\n"
          ],
          "name": "stdout"
        }
      ]
    },
    {
      "cell_type": "code",
      "metadata": {
        "id": "Snnb0yYiJMa7",
        "colab_type": "code",
        "outputId": "3d9aeed0-4fc4-402e-e10d-782e3c0a27e4",
        "colab": {
          "base_uri": "https://localhost:8080/",
          "height": 156
        }
      },
      "source": [
        "#Test data in LAG unit\n",
        "testPH1=np.transpose(testPH1)\n",
        "testLAG1 = testPH1[sorted1]\n",
        "testLAG1 = testLAG1.reshape(len(testLAG1),-1)\n",
        "testLAG1=np.transpose(testLAG1)\n",
        "\n",
        "testPH2=np.transpose(testPH2)\n",
        "testLAG2 = testPH2[sorted2]\n",
        "testLAG2 = testLAG2.reshape(len(testLAG2),-1)\n",
        "testLAG2=np.transpose(testLAG2)\n",
        "\n",
        "testPH3=np.transpose(testPH3)\n",
        "testLAG3 = testPH3[sorted3]\n",
        "testLAG3 = testLAG3.reshape(len(testLAG3),-1)\n",
        "testLAG3=np.transpose(testLAG3)\n",
        "\n",
        "testPH4=np.transpose(testPH4)\n",
        "testLAG4 = testPH4[sorted4]\n",
        "testLAG4 = testLAG4.reshape(len(testLAG4),-1)\n",
        "testLAG4=np.transpose(testLAG4)"
      ],
      "execution_count": 34,
      "outputs": [
        {
          "output_type": "stream",
          "text": [
            "(4950, 10000)\n",
            "(10000, 1000)\n",
            "(4165, 10000)\n",
            "(10000, 1000)\n",
            "(1773, 10000)\n",
            "(10000, 1000)\n",
            "(385, 10000)\n",
            "(10000, 385)\n"
          ],
          "name": "stdout"
        }
      ]
    },
    {
      "cell_type": "code",
      "metadata": {
        "id": "GWudZgVSKuiy",
        "colab_type": "code",
        "outputId": "e0be2323-d914-4acd-f2a7-a21229d75ad7",
        "colab": {
          "base_uri": "https://localhost:8080/",
          "height": 104
        }
      },
      "source": [
        "\n",
        "testLAG1_out = lag1.transform(testLAG1)\n",
        "testLAG1_prob  = lag1.predict_proba(testLAG1)\n",
        "testLAG2_out = lag2.transform(testLAG2)\n",
        "testLAG2_prob = lag2.predict_proba(testLAG2)\n",
        "testLAG3_out = lag3.transform(testLAG3)\n",
        "testLAG3_prob = lag3.predict_proba(testLAG3)\n",
        "testLAG4_out = lag4.transform(testLAG4)\n",
        "testLAG4_prob = lag4.predict_proba(testLAG4)\n",
        "TestFeatureMatrix = np.concatenate((testLAG1_out,testLAG2_out,testLAG3_out,testLAG4_out),axis = 1)\n",
        "#save('drive/My Drive/569_Competition/FeatureMatrixForTest_ph4.npy', TestFeatureMatrix)\n"
      ],
      "execution_count": 36,
      "outputs": [
        {
          "output_type": "stream",
          "text": [
            "(10000, 50)\n",
            "(10000, 50)\n",
            "(10000, 50)\n",
            "(10000, 50)\n",
            "(10000, 200)\n"
          ],
          "name": "stdout"
        }
      ]
    },
    {
      "cell_type": "code",
      "metadata": {
        "id": "o43SLWRrN65e",
        "colab_type": "code",
        "outputId": "df9086b6-6b25-4e25-b637-5fc150525c51",
        "colab": {
          "base_uri": "https://localhost:8080/",
          "height": 124
        }
      },
      "source": [
        "\n",
        "RFModel = RandomForestClassifier(n_estimators = 80, max_depth=100, random_state = 0)\n",
        "RFModel.fit(FeatureMatrix_Train_, trainLabel)\n",
        "print(\"Train a XGBoost model\")\n",
        "params = {\"objective\": \"multi:softmax\",\n",
        "          \"eta\": 0.3,\n",
        "          \"max_depth\": 10,\n",
        "          \"min_child_weight\": 3,\n",
        "          \"silent\": 1,\n",
        "          \"subsample\": 0.7,\n",
        "          \"colsample_bytree\": 0.7,\n",
        "          \"seed\": 1,\n",
        "          \"num_class\": 10}\n",
        "gbm = xgb.train(params, xgb.DMatrix(\n",
        "    FeatureMatrix_Train_, trainLabel), 250)\n",
        "\n",
        "test_probs = gbm.predict(xgb.DMatrix(TestFeatureMatrix))\n",
        "#y_pred = RFModel.predict(TestFeatureMatrix)\n",
        "score  = accuracy_score(testLabel,test_probs)\n",
        "print(\"Test Accuracy is: \", score)"
      ],
      "execution_count": 54,
      "outputs": [
        {
          "output_type": "stream",
          "text": [
            "/usr/local/lib/python3.6/dist-packages/ipykernel_launcher.py:6: DataConversionWarning: A column-vector y was passed when a 1d array was expected. Please change the shape of y to (n_samples,), for example using ravel().\n",
            "  \n"
          ],
          "name": "stderr"
        },
        {
          "output_type": "stream",
          "text": [
            "Train a XGBoost model\n",
            "Make predictions on the test set\n",
            "0.6456\n"
          ],
          "name": "stdout"
        }
      ]
    },
    {
      "cell_type": "code",
      "metadata": {
        "id": "sWcGnty_Svl7",
        "colab_type": "code",
        "colab": {
          "base_uri": "https://localhost:8080/",
          "height": 34
        },
        "outputId": "5da4648d-ed6f-46d2-9b31-91791b589065"
      },
      "source": [
        ""
      ],
      "execution_count": 45,
      "outputs": [
        {
          "output_type": "execute_result",
          "data": {
            "text/plain": [
              "array([1, 1, 3, ..., 2, 1, 3])"
            ]
          },
          "metadata": {
            "tags": []
          },
          "execution_count": 45
        }
      ]
    }
  ]
}