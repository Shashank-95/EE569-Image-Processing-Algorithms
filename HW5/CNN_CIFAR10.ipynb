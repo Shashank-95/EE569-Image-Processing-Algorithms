{
  "nbformat": 4,
  "nbformat_minor": 0,
  "metadata": {
    "colab": {
      "name": "CNN_CIFAR10.ipynb",
      "provenance": [],
      "collapsed_sections": []
    },
    "kernelspec": {
      "name": "python3",
      "display_name": "Python 3"
    }
  },
  "cells": [
    {
      "cell_type": "code",
      "metadata": {
        "id": "IfDpE23xdhEN",
        "colab_type": "code",
        "outputId": "db15cd9f-75b8-41ff-f74c-36ad04589bc0",
        "colab": {
          "base_uri": "https://localhost:8080/",
          "height": 419
        }
      },
      "source": [
        "!pip install torchvision\n",
        "!pip install efficientnet_pytorch\n",
        "from google.colab import drive\n",
        "import torch\n",
        "import torchvision\n",
        "from torchvision import transforms, datasets\n",
        "import matplotlib.pyplot as plt\n",
        "drive.mount('/content/drive')\n"
      ],
      "execution_count": 2,
      "outputs": [
        {
          "output_type": "stream",
          "text": [
            "Requirement already satisfied: torchvision in /usr/local/lib/python3.6/dist-packages (0.6.0+cu101)\n",
            "Requirement already satisfied: numpy in /usr/local/lib/python3.6/dist-packages (from torchvision) (1.18.3)\n",
            "Requirement already satisfied: pillow>=4.1.1 in /usr/local/lib/python3.6/dist-packages (from torchvision) (7.0.0)\n",
            "Requirement already satisfied: torch==1.5.0 in /usr/local/lib/python3.6/dist-packages (from torchvision) (1.5.0+cu101)\n",
            "Requirement already satisfied: future in /usr/local/lib/python3.6/dist-packages (from torch==1.5.0->torchvision) (0.16.0)\n",
            "Collecting efficientnet_pytorch\n",
            "  Downloading https://files.pythonhosted.org/packages/b8/cb/0309a6e3d404862ae4bc017f89645cf150ac94c14c88ef81d215c8e52925/efficientnet_pytorch-0.6.3.tar.gz\n",
            "Requirement already satisfied: torch in /usr/local/lib/python3.6/dist-packages (from efficientnet_pytorch) (1.5.0+cu101)\n",
            "Requirement already satisfied: future in /usr/local/lib/python3.6/dist-packages (from torch->efficientnet_pytorch) (0.16.0)\n",
            "Requirement already satisfied: numpy in /usr/local/lib/python3.6/dist-packages (from torch->efficientnet_pytorch) (1.18.3)\n",
            "Building wheels for collected packages: efficientnet-pytorch\n",
            "  Building wheel for efficientnet-pytorch (setup.py) ... \u001b[?25l\u001b[?25hdone\n",
            "  Created wheel for efficientnet-pytorch: filename=efficientnet_pytorch-0.6.3-cp36-none-any.whl size=12422 sha256=a275a38e6011becbcfe9e2d021565f7f4db5eb0f60d36b2ba77700327515df37\n",
            "  Stored in directory: /root/.cache/pip/wheels/42/1e/a9/2a578ba9ad04e776e80bf0f70d8a7f4c29ec0718b92d8f6ccd\n",
            "Successfully built efficientnet-pytorch\n",
            "Installing collected packages: efficientnet-pytorch\n",
            "Successfully installed efficientnet-pytorch-0.6.3\n",
            "Go to this URL in a browser: https://accounts.google.com/o/oauth2/auth?client_id=947318989803-6bn6qk8qdgf4n4g3pfee6491hc0brc4i.apps.googleusercontent.com&redirect_uri=urn%3aietf%3awg%3aoauth%3a2.0%3aoob&response_type=code&scope=email%20https%3a%2f%2fwww.googleapis.com%2fauth%2fdocs.test%20https%3a%2f%2fwww.googleapis.com%2fauth%2fdrive%20https%3a%2f%2fwww.googleapis.com%2fauth%2fdrive.photos.readonly%20https%3a%2f%2fwww.googleapis.com%2fauth%2fpeopleapi.readonly\n",
            "\n",
            "Enter your authorization code:\n",
            "··········\n",
            "Mounted at /content/drive\n"
          ],
          "name": "stdout"
        }
      ]
    },
    {
      "cell_type": "code",
      "metadata": {
        "id": "XEW01Sj8dyOe",
        "colab_type": "code",
        "outputId": "b5146424-3f10-4356-b188-a84b20d7cce8",
        "colab": {
          "base_uri": "https://localhost:8080/",
          "height": 52
        }
      },
      "source": [
        "#Preprocess the data\n",
        "trainSet = datasets.CIFAR10(\"drive/My Drive/EE569-Reports/hw_5\", train = True, download = True, \n",
        "            transform = transforms.Compose([transforms.RandomHorizontalFlip(), transforms.ToTensor(), transforms.Normalize((0.5, 0.5, 0.5), (0.5, 0.5, 0.5)),transforms.RandomErasing()]))\n",
        "testSet = datasets.CIFAR10(\"drive/My Drive/EE569-Reports/hw_5\",  train = False, download = True, \n",
        "        transform = transforms.Compose([transforms.ToTensor(), transforms.Normalize((0.5, 0.5, 0.5), (0.5, 0.5, 0.5))]))\n",
        "trainImages = torch.utils.data.DataLoader(trainSet, batch_size = 64, shuffle = True, num_workers=2)\n",
        "testImages = torch.utils.data.DataLoader(testSet, batch_size = 1000, shuffle = True,num_workers=2)\n",
        "\n",
        "\n"
      ],
      "execution_count": 3,
      "outputs": [
        {
          "output_type": "stream",
          "text": [
            "Files already downloaded and verified\n",
            "Files already downloaded and verified\n"
          ],
          "name": "stdout"
        }
      ]
    },
    {
      "cell_type": "code",
      "metadata": {
        "id": "9VwF0CXbBF0S",
        "colab_type": "code",
        "colab": {}
      },
      "source": [
        "#To check whether the data is balanced\n",
        "count = 0\n",
        "obj_dict = {0:0, 1:0, 2:0, 3:0, 4:0, 5:0, 6:0, 7:0, 8:0, 9:0}\n",
        "for imgs in trainImages:\n",
        "  Images, labels = imgs\n",
        "  for l in labels:\n",
        "    obj_dict[int(l)] += 1\n",
        "    count +=1\n",
        "print (obj_dict)\n"
      ],
      "execution_count": 0,
      "outputs": []
    },
    {
      "cell_type": "code",
      "metadata": {
        "id": "UNwa9gs04msj",
        "colab_type": "code",
        "outputId": "9924b828-b3a3-4586-c57a-7101949e55b1",
        "colab": {
          "base_uri": "https://localhost:8080/",
          "height": 503
        }
      },
      "source": [
        "#Model 7: Weight decay, Data augmentation, Data Processsing\n",
        "#Build a Neural Network\n",
        "import torch.nn as nn\n",
        "import torch.nn.functional as Func\n",
        "class Net(nn.Module):\n",
        "    \n",
        "    def __init__(self):\n",
        "        super(Net, self).__init__()\n",
        "        #model = EfficientNet.from_pretrained(model_name)\n",
        "        #self.model = model\n",
        "\n",
        "        #Defining 2 convolution layers\n",
        "        self.convotionLayer1 = nn.Conv2d(3, 32, 3)\n",
        "        self.drop1 = nn.Dropout2d(0.2)\n",
        "        self.conv1_bn = nn.BatchNorm2d(32)\n",
        "\n",
        "        self.convotionLayer2 = nn.Conv2d(32, 32, 3, padding=1)\n",
        "        self.conv2_bn = nn.BatchNorm2d(32)\n",
        "\n",
        "        self.convotionLayer3 = nn.Conv2d(32, 64, 3)\n",
        "        self.drop3 = nn.Dropout2d(0.3)\n",
        "        self.conv3_bn = nn.BatchNorm2d(64)\n",
        "\n",
        "        self.convotionLayer4 = nn.Conv2d(64, 64, 3, padding=1)\n",
        "        self.conv4_bn = nn.BatchNorm2d(64)\n",
        "\n",
        "        self.convotionLayer5 = nn.Conv2d(64, 128, 3)\n",
        "        self.drop5 = nn.Dropout2d(0.4)\n",
        "        self.conv5_bn = nn.BatchNorm2d(128)\n",
        "\n",
        "        #Defining Fully connected Layers (y = Wx + b)\n",
        "        self.fullyConnected1 = nn.Linear(128*2*2, 256)\n",
        "        self.fc1_bn = nn.BatchNorm1d(256)\n",
        "\n",
        "        self.fullyConnected2 = nn.Linear(256, 64)\n",
        "        self.fc2_bn = nn.BatchNorm1d(128)\n",
        "\n",
        "        self.fullyConnected3 = nn.Linear(64, 10)\n",
        "\n",
        "    def forward(self, imageFeatures):\n",
        "        elu = nn.ELU()\n",
        "\n",
        "        conv1 = elu(self.conv1_bn(self.drop1(self.convotionLayer1(imageFeatures))))\n",
        "        imageFeatures = Func.max_pool2d(conv1, (2, 2))\n",
        "        #print(imageFeatures.shape)\n",
        "        # If the size is a square you can only specify a single number\n",
        "\n",
        "        imageFeatures = elu(self.conv2_bn(self.convotionLayer2(imageFeatures)))\n",
        "        #print(imageFeatures.shape)\n",
        "\n",
        "        conv3 = elu(self.conv3_bn(self.drop3(self.convotionLayer3(imageFeatures))))\n",
        "        imageFeatures = Func.max_pool2d(conv3, (2, 2))\n",
        "        #print(imageFeatures.shape)\n",
        "\n",
        "        imageFeatures = elu(self.conv4_bn(self.convotionLayer4(imageFeatures)))\n",
        "        #print(imageFeatures.shape)\n",
        "\n",
        "\n",
        "        conv5 = elu(self.conv5_bn(self.drop5(self.convotionLayer5(imageFeatures))))\n",
        "        imageFeatures = Func.max_pool2d(conv5, (2, 2))\n",
        "\n",
        "        #print(imageFeatures.shape)\n",
        "\n",
        "        imageFeatures = imageFeatures.view(-1, 128*2*2)\n",
        "        imageFeatures = elu(self.fc1_bn(self.fullyConnected1(imageFeatures)))\n",
        "        imageFeatures = elu(self.fc2_bn(self.fullyConnected2(imageFeatures)))\n",
        "        imageFeatures = self.fullyConnected3(imageFeatures)\n",
        "        return imageFeatures\n",
        "\n",
        "    def num_flat_features(self, imageFeatures):\n",
        "      length = imageFeatures.size()[1:]  # all dimensions except the batch dimension\n",
        "      featureDim = 1\n",
        "      for k in length:\n",
        "        featureDim *= k\n",
        "      return featureDim\n",
        "\n",
        "cnn = Net()\n",
        "print(cnn)\n",
        "params = list(cnn.parameters())\n",
        "print(len(params))\n",
        "#print(params[0].size())\n",
        "\n",
        "input = torch.randn(3,3,32,32)\n",
        "output = cnn(input)\n",
        "print(output)\n",
        "labels = torch.randn(10)\n",
        "labels = labels.view(1, -1) \n",
        "\n",
        "numberOfParams= sum(p.numel() for p in cnn.parameters() if p.requires_grad)\n",
        "print(numberOfParams)"
      ],
      "execution_count": 13,
      "outputs": [
        {
          "output_type": "stream",
          "text": [
            "Net(\n",
            "  (convotionLayer1): Conv2d(3, 32, kernel_size=(3, 3), stride=(1, 1))\n",
            "  (drop1): Dropout2d(p=0.2, inplace=False)\n",
            "  (conv1_bn): BatchNorm2d(32, eps=1e-05, momentum=0.1, affine=True, track_running_stats=True)\n",
            "  (convotionLayer2): Conv2d(32, 32, kernel_size=(3, 3), stride=(1, 1), padding=(1, 1))\n",
            "  (conv2_bn): BatchNorm2d(32, eps=1e-05, momentum=0.1, affine=True, track_running_stats=True)\n",
            "  (convotionLayer3): Conv2d(32, 64, kernel_size=(3, 3), stride=(1, 1))\n",
            "  (drop3): Dropout2d(p=0.3, inplace=False)\n",
            "  (conv3_bn): BatchNorm2d(64, eps=1e-05, momentum=0.1, affine=True, track_running_stats=True)\n",
            "  (convotionLayer4): Conv2d(64, 64, kernel_size=(3, 3), stride=(1, 1), padding=(1, 1))\n",
            "  (conv4_bn): BatchNorm2d(64, eps=1e-05, momentum=0.1, affine=True, track_running_stats=True)\n",
            "  (convotionLayer5): Conv2d(64, 128, kernel_size=(3, 3), stride=(1, 1))\n",
            "  (drop5): Dropout2d(p=0.4, inplace=False)\n",
            "  (conv5_bn): BatchNorm2d(128, eps=1e-05, momentum=0.1, affine=True, track_running_stats=True)\n",
            "  (fullyConnected1): Linear(in_features=512, out_features=256, bias=True)\n",
            "  (fc1_bn): BatchNorm1d(256, eps=1e-05, momentum=0.1, affine=True, track_running_stats=True)\n",
            "  (fullyConnected2): Linear(in_features=256, out_features=128, bias=True)\n",
            "  (fc2_bn): BatchNorm1d(128, eps=1e-05, momentum=0.1, affine=True, track_running_stats=True)\n",
            "  (fullyConnected3): Linear(in_features=128, out_features=10, bias=True)\n",
            ")\n",
            "30\n",
            "tensor([[ 0.2417,  0.9608, -0.0895,  0.0066, -0.6431,  0.1531, -0.0223, -0.1911,\n",
            "          0.4947,  0.3099],\n",
            "        [ 0.4669, -0.2008, -0.5251,  0.3727,  0.5690, -0.6678, -0.8048,  0.8103,\n",
            "         -0.3870, -0.9198],\n",
            "        [-0.2995, -0.8404,  0.3677, -0.4590,  0.3901,  1.0548,  0.5973, -0.0129,\n",
            "         -0.0207,  0.6928]], grad_fn=<AddmmBackward>)\n",
            "306346\n"
          ],
          "name": "stdout"
        }
      ]
    },
    {
      "cell_type": "code",
      "metadata": {
        "id": "ZZWxJg6qyZvH",
        "colab_type": "code",
        "outputId": "e7a9b420-6e6d-4a60-bc9d-124c683ca358",
        "colab": {
          "base_uri": "https://localhost:8080/",
          "height": 1000
        }
      },
      "source": [
        "import torch.optim as optim\n",
        "\n",
        "def evalAccuracy():\n",
        "  #Overall train and test accuracy\n",
        "  correctClassification_train = 0\n",
        "  totalImages_train = 0\n",
        "\n",
        "  correctClassification_test = 0\n",
        "  totalImages_test = 0\n",
        "\n",
        "  with torch.no_grad():\n",
        "    for data in trainImages:\n",
        "      img, label = data\n",
        "      output = cnn(img)\n",
        "      for i,k in enumerate(output):\n",
        "        if torch.argmax(k) == label[i]:\n",
        "          correctClassification_train +=1\n",
        "        totalImages_train +=1\n",
        "\n",
        "  with torch.no_grad():\n",
        "    for data in testImages:\n",
        "      img, label = data\n",
        "      output = cnn(img)\n",
        "      for i,k in enumerate(output):\n",
        "        if torch.argmax(k) == label[i]:\n",
        "          correctClassification_test +=1\n",
        "        totalImages_test +=1\n",
        "\n",
        "  trainAccuracy = correctClassification_train/totalImages_train      \n",
        "  testAccuracy = correctClassification_test/totalImages_test\n",
        "  return trainAccuracy, testAccuracy\n",
        "\n",
        "def training(learningRate, momentum, epochs, criterion, optimizer):\n",
        "  trainingAccuracyList = []\n",
        "  testingAccuracyList = []\n",
        "\n",
        "  running_loss = 0\n",
        "  for epoch in range(epochs):\n",
        "    print(\"Epochs: \",epoch)\n",
        "    for i, trainData in enumerate(trainImages, 0):\n",
        "      imgs, labels = trainData\n",
        "\n",
        "      #set the gradient to zero\n",
        "      optimizer.zero_grad()\n",
        "      outputs = cnn(imgs)\n",
        "      loss = criterion(outputs, labels)\n",
        "      #loss.requires_grad = True\n",
        "      loss.backward()\n",
        "      optimizer.step()\n",
        "      \n",
        "    print(loss)\n",
        "\n",
        "    #Saving the Model after each Epoch\n",
        "    checkpoint = {'model': Net(),\n",
        "          'state_dict': cnn.state_dict(),\n",
        "          'optimizer' : optimizer.state_dict()}\n",
        "    torch.save(checkpoint, 'drive/My Drive/EE569-Reports/569_competition/dropout_final_aste.pth')  \n",
        "    \n",
        "    trainAccuracy, testAccuracy = evalAccuracy()\n",
        "    trainingAccuracyList.append(trainAccuracy)\n",
        "    testingAccuracyList.append(testAccuracy)\n",
        "\n",
        "  return trainingAccuracyList, testingAccuracyList\n",
        "\n",
        "#define training parameters\n",
        "learningRate = 0.001\n",
        "momentum = 0.9\n",
        "epochs = 80\n",
        "criterion = nn.CrossEntropyLoss()\n",
        "#optimizer= optim.SGD(cnn.parameters(), lr=0.001, momentum=0.9, weight_decay=0.0001)\n",
        "optimizer= optim.Adam(cnn.parameters(), lr=0.001, betas=(0.9, 0.999), eps=1e-08, weight_decay=0.0001, amsgrad=False)\n",
        "#optimizer = optim.RMSprop(cnn.parameters(), lr=0.001, alpha=0.99, eps=1e-08, weight_decay=0.0001, momentum=0.9, centered=False)\n",
        "\n",
        "#Call training function\n",
        "trainingAccuracyList, testingAccuracyList = training(learningRate, momentum, epochs, criterion, optimizer)\n",
        "print(\"Train Accuracy for Each Epoch: \",trainingAccuracyList)\n",
        "print(\"Test Accuracy for Each Epoch: \", testingAccuracyList)\n",
        "\n"
      ],
      "execution_count": 0,
      "outputs": [
        {
          "output_type": "stream",
          "text": [
            "Epochs:  0\n",
            "tensor(1.5765, grad_fn=<NllLossBackward>)\n"
          ],
          "name": "stdout"
        },
        {
          "output_type": "stream",
          "text": [
            "/usr/local/lib/python3.6/dist-packages/torch/serialization.py:402: UserWarning: Couldn't retrieve source code for container of type Net. It won't be checked for correctness upon loading.\n",
            "  \"type \" + obj.__name__ + \". It won't be checked \"\n"
          ],
          "name": "stderr"
        },
        {
          "output_type": "stream",
          "text": [
            "Epochs:  1\n",
            "tensor(1.6561, grad_fn=<NllLossBackward>)\n",
            "Epochs:  2\n",
            "tensor(1.0648, grad_fn=<NllLossBackward>)\n",
            "Epochs:  3\n",
            "tensor(1.0777, grad_fn=<NllLossBackward>)\n",
            "Epochs:  4\n",
            "tensor(1.0663, grad_fn=<NllLossBackward>)\n",
            "Epochs:  5\n",
            "tensor(0.9185, grad_fn=<NllLossBackward>)\n",
            "Epochs:  6\n",
            "tensor(1.1515, grad_fn=<NllLossBackward>)\n",
            "Epochs:  7\n",
            "tensor(1.1106, grad_fn=<NllLossBackward>)\n",
            "Epochs:  8\n",
            "tensor(1.2698, grad_fn=<NllLossBackward>)\n",
            "Epochs:  9\n",
            "tensor(1.6959, grad_fn=<NllLossBackward>)\n",
            "Epochs:  10\n",
            "tensor(1.2340, grad_fn=<NllLossBackward>)\n",
            "Epochs:  11\n",
            "tensor(1.4951, grad_fn=<NllLossBackward>)\n",
            "Epochs:  12\n",
            "tensor(1.1185, grad_fn=<NllLossBackward>)\n",
            "Epochs:  13\n",
            "tensor(1.4391, grad_fn=<NllLossBackward>)\n",
            "Epochs:  14\n",
            "tensor(1.1042, grad_fn=<NllLossBackward>)\n",
            "Epochs:  15\n",
            "tensor(1.2698, grad_fn=<NllLossBackward>)\n",
            "Epochs:  16\n",
            "tensor(0.8880, grad_fn=<NllLossBackward>)\n",
            "Epochs:  17\n",
            "tensor(1.0722, grad_fn=<NllLossBackward>)\n",
            "Epochs:  18\n",
            "tensor(1.5489, grad_fn=<NllLossBackward>)\n",
            "Epochs:  19\n",
            "tensor(1.0951, grad_fn=<NllLossBackward>)\n",
            "Epochs:  20\n",
            "tensor(1.4382, grad_fn=<NllLossBackward>)\n",
            "Epochs:  21\n",
            "tensor(0.7341, grad_fn=<NllLossBackward>)\n",
            "Epochs:  22\n",
            "tensor(1.0582, grad_fn=<NllLossBackward>)\n",
            "Epochs:  23\n",
            "tensor(1.4387, grad_fn=<NllLossBackward>)\n",
            "Epochs:  24\n",
            "tensor(0.7861, grad_fn=<NllLossBackward>)\n",
            "Epochs:  25\n",
            "tensor(0.9444, grad_fn=<NllLossBackward>)\n",
            "Epochs:  26\n",
            "tensor(1.6504, grad_fn=<NllLossBackward>)\n",
            "Epochs:  27\n",
            "tensor(0.7191, grad_fn=<NllLossBackward>)\n",
            "Epochs:  28\n",
            "tensor(1.0086, grad_fn=<NllLossBackward>)\n",
            "Epochs:  29\n",
            "tensor(1.2264, grad_fn=<NllLossBackward>)\n",
            "Epochs:  30\n",
            "tensor(1.0705, grad_fn=<NllLossBackward>)\n",
            "Epochs:  31\n",
            "tensor(1.2694, grad_fn=<NllLossBackward>)\n",
            "Epochs:  32\n",
            "tensor(0.9803, grad_fn=<NllLossBackward>)\n",
            "Epochs:  33\n",
            "tensor(0.6238, grad_fn=<NllLossBackward>)\n",
            "Epochs:  34\n",
            "tensor(0.8078, grad_fn=<NllLossBackward>)\n",
            "Epochs:  35\n",
            "tensor(1.0168, grad_fn=<NllLossBackward>)\n",
            "Epochs:  36\n",
            "tensor(1.1536, grad_fn=<NllLossBackward>)\n",
            "Epochs:  37\n",
            "tensor(0.7240, grad_fn=<NllLossBackward>)\n",
            "Epochs:  38\n",
            "tensor(0.6353, grad_fn=<NllLossBackward>)\n",
            "Epochs:  39\n",
            "tensor(0.8068, grad_fn=<NllLossBackward>)\n",
            "Epochs:  40\n",
            "tensor(1.1980, grad_fn=<NllLossBackward>)\n",
            "Epochs:  41\n",
            "tensor(0.4076, grad_fn=<NllLossBackward>)\n",
            "Epochs:  42\n",
            "tensor(0.8697, grad_fn=<NllLossBackward>)\n",
            "Epochs:  43\n",
            "tensor(0.8681, grad_fn=<NllLossBackward>)\n",
            "Epochs:  44\n",
            "tensor(1.2189, grad_fn=<NllLossBackward>)\n",
            "Epochs:  45\n",
            "tensor(0.9560, grad_fn=<NllLossBackward>)\n",
            "Epochs:  46\n",
            "tensor(1.6698, grad_fn=<NllLossBackward>)\n",
            "Epochs:  47\n",
            "tensor(0.7357, grad_fn=<NllLossBackward>)\n",
            "Epochs:  48\n",
            "tensor(1.2031, grad_fn=<NllLossBackward>)\n",
            "Epochs:  49\n",
            "tensor(0.6403, grad_fn=<NllLossBackward>)\n",
            "Epochs:  50\n",
            "tensor(0.8424, grad_fn=<NllLossBackward>)\n",
            "Epochs:  51\n",
            "tensor(0.5414, grad_fn=<NllLossBackward>)\n",
            "Epochs:  52\n",
            "tensor(0.6469, grad_fn=<NllLossBackward>)\n",
            "Epochs:  53\n",
            "tensor(1.2982, grad_fn=<NllLossBackward>)\n",
            "Epochs:  54\n",
            "tensor(1.2558, grad_fn=<NllLossBackward>)\n",
            "Epochs:  55\n",
            "tensor(0.9263, grad_fn=<NllLossBackward>)\n",
            "Epochs:  56\n",
            "tensor(1.2606, grad_fn=<NllLossBackward>)\n",
            "Epochs:  57\n",
            "tensor(1.5257, grad_fn=<NllLossBackward>)\n",
            "Epochs:  58\n",
            "tensor(1.1882, grad_fn=<NllLossBackward>)\n",
            "Epochs:  59\n",
            "tensor(0.5461, grad_fn=<NllLossBackward>)\n",
            "Epochs:  60\n",
            "tensor(0.9660, grad_fn=<NllLossBackward>)\n",
            "Epochs:  61\n",
            "tensor(1.3780, grad_fn=<NllLossBackward>)\n",
            "Epochs:  62\n",
            "tensor(1.2212, grad_fn=<NllLossBackward>)\n",
            "Epochs:  63\n",
            "tensor(1.0435, grad_fn=<NllLossBackward>)\n",
            "Epochs:  64\n",
            "tensor(0.9298, grad_fn=<NllLossBackward>)\n",
            "Epochs:  65\n",
            "tensor(0.8683, grad_fn=<NllLossBackward>)\n",
            "Epochs:  66\n",
            "tensor(0.8236, grad_fn=<NllLossBackward>)\n",
            "Epochs:  67\n",
            "tensor(1.6128, grad_fn=<NllLossBackward>)\n",
            "Epochs:  68\n",
            "tensor(1.1233, grad_fn=<NllLossBackward>)\n",
            "Epochs:  69\n",
            "tensor(0.9917, grad_fn=<NllLossBackward>)\n",
            "Epochs:  70\n"
          ],
          "name": "stdout"
        }
      ]
    },
    {
      "cell_type": "code",
      "metadata": {
        "id": "lrczGjVx2T7y",
        "colab_type": "code",
        "outputId": "56da07b8-0ae9-455b-907b-39fb62fc8e92",
        "colab": {
          "base_uri": "https://localhost:8080/",
          "height": 89
        }
      },
      "source": [
        "numberOfParams= sum(p.numel() for p in cnn.parameters() if p.requires_grad)\n",
        "print(\"Total Number of Parameters\",numberOfParams)\n"
      ],
      "execution_count": 7,
      "outputs": [
        {
          "output_type": "stream",
          "text": [
            "0\n"
          ],
          "name": "stdout"
        },
        {
          "output_type": "stream",
          "text": [
            "/usr/local/lib/python3.6/dist-packages/torch/serialization.py:402: UserWarning: Couldn't retrieve source code for container of type Net. It won't be checked for correctness upon loading.\n",
            "  \"type \" + obj.__name__ + \". It won't be checked \"\n"
          ],
          "name": "stderr"
        }
      ]
    },
    {
      "cell_type": "code",
      "metadata": {
        "id": "e3DFrIFi-WxV",
        "colab_type": "code",
        "outputId": "31e86ee2-4b71-400b-ccad-e043afecf8c0",
        "colab": {
          "base_uri": "https://localhost:8080/",
          "height": 34
        }
      },
      "source": [
        "#Overall train and test accuracy\n",
        "correctClassification = 0\n",
        "totalImages = 0\n",
        "\n",
        "with torch.no_grad():\n",
        "  for data in testImages:\n",
        "    img, label = data\n",
        "    output = cnn(img)\n",
        "    for i,k in enumerate(output):\n",
        "      if torch.argmax(k) == label[i]:\n",
        "        correctClassification +=1\n",
        "      totalImages +=1\n",
        "\n",
        "print (\"Accuracy: \", correctClassification/totalImages)"
      ],
      "execution_count": 8,
      "outputs": [
        {
          "output_type": "stream",
          "text": [
            "Accuracy:  0.8068\n"
          ],
          "name": "stdout"
        }
      ]
    },
    {
      "cell_type": "code",
      "metadata": {
        "id": "XlHuDlIER0gf",
        "colab_type": "code",
        "outputId": "b9a9d37f-eeb3-4a33-e2bf-e6199a9533b1",
        "colab": {
          "base_uri": "https://localhost:8080/",
          "height": 295
        }
      },
      "source": [
        "epochList = [i for i in range(1, 121)]\n",
        "plt.plot(epochList, trainingAccuracyList, label = \"Train\")\n",
        "plt.plot(epochList, testingAccuracyList, label = \"Test\")\n",
        "\n",
        "plt.xlabel('Number of Epochs') \n",
        "plt.ylabel('Accuracy')  \n",
        "plt.title('Accuracy vs Epochs') \n",
        "plt.legend()  \n",
        "plt.show() "
      ],
      "execution_count": 0,
      "outputs": [
        {
          "output_type": "display_data",
          "data": {
            "image/png": "[encoded data removed]",
            "text/plain": [
              "<Figure size 432x288 with 1 Axes>"
            ]
          },
          "metadata": {
            "tags": [],
            "needs_background": "light"
          }
        }
      ]
    }
  ]
}