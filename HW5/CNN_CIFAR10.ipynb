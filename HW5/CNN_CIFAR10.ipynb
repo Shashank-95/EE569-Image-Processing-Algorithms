{
  "nbformat": 4,
  "nbformat_minor": 0,
  "metadata": {
    "colab": {
      "name": "CNN_CIFAR10.ipynb",
      "provenance": [],
      "collapsed_sections": []
    },
    "kernelspec": {
      "name": "python3",
      "display_name": "Python 3"
    }
  },
  "cells": [
    {
      "cell_type": "code",
      "metadata": {
        "id": "IfDpE23xdhEN",
        "colab_type": "code",
        "outputId": "d07020e0-22cd-48a1-9323-226a44a0d168",
        "colab": {
          "base_uri": "https://localhost:8080/",
          "height": 156
        }
      },
      "source": [
        "# Name: Shashank Nelamangala Sridhara\n",
        "# USC ID Number: 2082227554\n",
        "# USC Email: nelamang@usc.edu\n",
        "# Submission Date: 04/07/202\n",
        "\n",
        "\n",
        "!pip install torchvision\n",
        "!pip install efficientnet_pytorch\n",
        "from google.colab import drive\n",
        "import torch\n",
        "import torchvision\n",
        "from torchvision import transforms, datasets\n",
        "import matplotlib.pyplot as plt\n",
        "drive.mount('/content/drive')\n"
      ],
      "execution_count": 0,
      "outputs": [
        {
          "output_type": "stream",
          "text": [
            "Requirement already satisfied: torchvision in /usr/local/lib/python3.6/dist-packages (0.5.0)\n",
            "Requirement already satisfied: pillow>=4.1.1 in /usr/local/lib/python3.6/dist-packages (from torchvision) (7.0.0)\n",
            "Requirement already satisfied: numpy in /usr/local/lib/python3.6/dist-packages (from torchvision) (1.18.2)\n",
            "Requirement already satisfied: six in /usr/local/lib/python3.6/dist-packages (from torchvision) (1.12.0)\n",
            "Requirement already satisfied: torch==1.4.0 in /usr/local/lib/python3.6/dist-packages (from torchvision) (1.4.0)\n",
            "Requirement already satisfied: efficientnet_pytorch in /usr/local/lib/python3.6/dist-packages (0.6.3)\n",
            "Requirement already satisfied: torch in /usr/local/lib/python3.6/dist-packages (from efficientnet_pytorch) (1.4.0)\n",
            "Drive already mounted at /content/drive; to attempt to forcibly remount, call drive.mount(\"/content/drive\", force_remount=True).\n"
          ],
          "name": "stdout"
        }
      ]
    },
    {
      "cell_type": "code",
      "metadata": {
        "id": "XEW01Sj8dyOe",
        "colab_type": "code",
        "outputId": "e829a111-4859-43d3-f9a5-e65f71a57e47",
        "colab": {
          "base_uri": "https://localhost:8080/",
          "height": 52
        }
      },
      "source": [
        "#Preprocess the data\n",
        "trainSet = datasets.CIFAR10(\"drive/My Drive/EE569-Reports/hw_5\", train = True, download = True, \n",
        "            transform = transforms.Compose([transforms.ToTensor(), transforms.Normalize((0.5, 0.5, 0.5), (0.5, 0.5, 0.5))]))\n",
        "testSet = datasets.CIFAR10(\"drive/My Drive/EE569-Reports/hw_5\",  train = False, download = True, \n",
        "        transform = transforms.Compose([transforms.ToTensor(), transforms.Normalize((0.5, 0.5, 0.5), (0.5, 0.5, 0.5))]))\n",
        "trainImages = torch.utils.data.DataLoader(trainSet, batch_size = 64, shuffle = True, num_workers=2)\n",
        "testImages = torch.utils.data.DataLoader(testSet, batch_size = 1000, shuffle = True,num_workers=2)\n",
        "\n",
        "\n"
      ],
      "execution_count": 0,
      "outputs": [
        {
          "output_type": "stream",
          "text": [
            "Files already downloaded and verified\n",
            "Files already downloaded and verified\n"
          ],
          "name": "stdout"
        }
      ]
    },
    {
      "cell_type": "code",
      "metadata": {
        "id": "9VwF0CXbBF0S",
        "colab_type": "code",
        "outputId": "6bccb75d-4b68-4168-eb3c-67975d7d1332",
        "colab": {
          "base_uri": "https://localhost:8080/",
          "height": 34
        }
      },
      "source": [
        "#To check whether the data is balanced\n",
        "count = 0\n",
        "obj_dict = {0:0, 1:0, 2:0, 3:0, 4:0, 5:0, 6:0, 7:0, 8:0, 9:0}\n",
        "for imgs in trainImages:\n",
        "  Images, labels = imgs\n",
        "  for l in labels:\n",
        "    obj_dict[int(l)] += 1\n",
        "    count +=1\n",
        "print (obj_dict)\n"
      ],
      "execution_count": 0,
      "outputs": [
        {
          "output_type": "stream",
          "text": [
            "{0: 5000, 1: 5000, 2: 5000, 3: 5000, 4: 5000, 5: 5000, 6: 5000, 7: 5000, 8: 5000, 9: 5000}\n"
          ],
          "name": "stdout"
        }
      ]
    },
    {
      "cell_type": "code",
      "metadata": {
        "id": "g7Sj6esCFTAh",
        "colab_type": "code",
        "outputId": "b91084d5-d0c3-41c6-9276-010e0b9d56e4",
        "colab": {
          "base_uri": "https://localhost:8080/",
          "height": 350
        }
      },
      "source": [
        "#Build a Neural Network\n",
        "import torch.nn as nn\n",
        "import torch.nn.functional as Func\n",
        "#from efficientnet_pytorch import EfficientNet\n",
        "\n",
        "class Net(nn.Module):\n",
        "  def __init__(self, model_name='efficientnet-b0'):\n",
        "    super(Net, self).__init__()\n",
        "    #model = EfficientNet.from_pretrained(model_name)\n",
        "    #self.model = model\n",
        "\n",
        "    #Defining 2 convolution layers\n",
        "    self.convotionLayer1 = nn.Conv2d(3, 6, 5)\n",
        "    self.convotionLayer2 = nn.Conv2d(6, 16, 5)\n",
        "    #Defining Fully connected Layers (y = Wx + b)\n",
        "    self.fullyConnected1 = nn.Linear(16 * 5 * 5, 120)\n",
        "    self.fullyConnected2 = nn.Linear(120, 84)\n",
        "    self.fullyConnected3 = nn.Linear(84, 10)\n",
        "\n",
        "  def forward(self, imageFeatures):\n",
        "    #imageFeatures = self.model.extract_features(imageFeatures)\n",
        "    imageFeatures = Func.max_pool2d(Func.relu(self.convotionLayer1(imageFeatures)), (2, 2))\n",
        "    # If the size is a square you can only specify a single number\n",
        "    imageFeatures = Func.max_pool2d(Func.relu(self.convotionLayer2(imageFeatures)), (2,2))\n",
        "    imageFeatures = imageFeatures.view(-1, 16*5*5)\n",
        "    imageFeatures = Func.relu(self.fullyConnected1(imageFeatures))\n",
        "    imageFeatures = Func.relu(self.fullyConnected2(imageFeatures))\n",
        "    imageFeatures = self.fullyConnected3(imageFeatures)\n",
        "    return imageFeatures\n",
        "\n",
        "\n",
        "cnn = Net()\n",
        "print(cnn)\n",
        "params = list(cnn.parameters())\n",
        "print(len(params))\n",
        "print(params[0].size())\n",
        "\n",
        "input = torch.randn(3,3,32,32)\n",
        "output = cnn(input)\n",
        "print(output)\n",
        "labels = torch.randn(10)\n",
        "labels = labels.view(1, -1) \n",
        "criterionFunction = nn.MSELoss()\n",
        "\n",
        "lossVal = criterionFunction(output, labels)\n",
        "print(lossVal)\n",
        "\n",
        "\n",
        "\n",
        "\n"
      ],
      "execution_count": 0,
      "outputs": [
        {
          "output_type": "stream",
          "text": [
            "Net(\n",
            "  (convotionLayer1): Conv2d(3, 6, kernel_size=(5, 5), stride=(1, 1))\n",
            "  (convotionLayer2): Conv2d(6, 16, kernel_size=(5, 5), stride=(1, 1))\n",
            "  (fullyConnected1): Linear(in_features=400, out_features=120, bias=True)\n",
            "  (fullyConnected2): Linear(in_features=120, out_features=84, bias=True)\n",
            "  (fullyConnected3): Linear(in_features=84, out_features=10, bias=True)\n",
            ")\n",
            "10\n",
            "torch.Size([6, 3, 5, 5])\n",
            "tensor([[-0.1258,  0.0480,  0.0530,  0.0252, -0.0599, -0.0647,  0.1083,  0.0161,\n",
            "         -0.1005, -0.0493],\n",
            "        [-0.1018,  0.0061,  0.0266,  0.0276, -0.0644, -0.0914,  0.0963,  0.0217,\n",
            "         -0.1070, -0.0465],\n",
            "        [-0.0883,  0.0554,  0.0133,  0.0514, -0.0811, -0.0482,  0.1090, -0.0033,\n",
            "         -0.1366, -0.0231]], grad_fn=<AddmmBackward>)\n",
            "tensor(1.2537, grad_fn=<MseLossBackward>)\n"
          ],
          "name": "stdout"
        },
        {
          "output_type": "stream",
          "text": [
            "/usr/local/lib/python3.6/dist-packages/torch/nn/modules/loss.py:431: UserWarning: Using a target size (torch.Size([1, 10])) that is different to the input size (torch.Size([3, 10])). This will likely lead to incorrect results due to broadcasting. Please ensure they have the same size.\n",
            "  return F.mse_loss(input, target, reduction=self.reduction)\n"
          ],
          "name": "stderr"
        }
      ]
    },
    {
      "cell_type": "code",
      "metadata": {
        "id": "ZZWxJg6qyZvH",
        "colab_type": "code",
        "outputId": "5cf5f8ec-e55c-496f-b040-79581645bb57",
        "colab": {
          "base_uri": "https://localhost:8080/",
          "height": 1000
        }
      },
      "source": [
        "import torch.optim as optim\n",
        "\n",
        "def evalAccuracy():\n",
        "  #Overall train and test accuracy\n",
        "  correctClassification_train = 0\n",
        "  totalImages_train = 0\n",
        "\n",
        "  correctClassification_test = 0\n",
        "  totalImages_test = 0\n",
        "\n",
        "  with torch.no_grad():\n",
        "    for data in trainImages:\n",
        "      img, label = data\n",
        "      output = cnn(img)\n",
        "      for i,k in enumerate(output):\n",
        "        if torch.argmax(k) == label[i]:\n",
        "          correctClassification_train +=1\n",
        "        totalImages_train +=1\n",
        "\n",
        "  with torch.no_grad():\n",
        "    for data in testImages:\n",
        "      img, label = data\n",
        "      output = cnn(img)\n",
        "      for i,k in enumerate(output):\n",
        "        if torch.argmax(k) == label[i]:\n",
        "          correctClassification_test +=1\n",
        "        totalImages_test +=1\n",
        "\n",
        "  trainAccuracy = correctClassification_train/totalImages_train      \n",
        "  testAccuracy = correctClassification_test/totalImages_test\n",
        "  return trainAccuracy, testAccuracy\n",
        "\n",
        "def training(learningRate, momentum, epochs, criterion, optimizer):\n",
        "  trainingAccuracyList = []\n",
        "  testingAccuracyList = []\n",
        "\n",
        "  running_loss = 0\n",
        "  for epoch in range(epochs):\n",
        "    for i, trainData in enumerate(trainImages, 0):\n",
        "      imgs, labels = trainData\n",
        "\n",
        "      #set the gradient to zero\n",
        "      optimizer.zero_grad()\n",
        "      outputs = cnn(imgs)\n",
        "      loss = criterion(outputs, labels)\n",
        "      loss.backward()\n",
        "      optimizer.step()\n",
        "      \n",
        "    print(loss)\n",
        "      \n",
        "    \n",
        "    trainAccuracy, testAccuracy = evalAccuracy()\n",
        "    trainingAccuracyList.append(trainAccuracy)\n",
        "    testingAccuracyList.append(testAccuracy)\n",
        "\n",
        "  return trainingAccuracyList, testingAccuracyList\n",
        "\n",
        "#define training parameters\n",
        "learningRate = 0.001\n",
        "momentum = 0.9\n",
        "epochs = 60\n",
        "criterion = nn.CrossEntropyLoss()\n",
        "optimizer = optimizer = optim.SGD(cnn.parameters(), lr=0.001, momentum=0.9)\n",
        "\n",
        "\n",
        "#Call training function\n",
        "trainingAccuracyList, testingAccuracyList = training(learningRate, momentum, epochs, criterion, optimizer)\n",
        "print(\"Train Accuracy for Each Epoch: \",trainingAccuracyList)\n",
        "print(\"Test Accuracy for Each Epoch: \", testingAccuracyList)\n",
        "\n"
      ],
      "execution_count": 0,
      "outputs": [
        {
          "output_type": "stream",
          "text": [
            "tensor(1.9084, grad_fn=<NllLossBackward>)\n",
            "tensor(1.3853, grad_fn=<NllLossBackward>)\n",
            "tensor(1.4344, grad_fn=<NllLossBackward>)\n",
            "tensor(1.2847, grad_fn=<NllLossBackward>)\n",
            "tensor(0.9125, grad_fn=<NllLossBackward>)\n",
            "tensor(1.4305, grad_fn=<NllLossBackward>)\n",
            "tensor(1.4858, grad_fn=<NllLossBackward>)\n",
            "tensor(1.4377, grad_fn=<NllLossBackward>)\n",
            "tensor(1.6543, grad_fn=<NllLossBackward>)\n",
            "tensor(1.3827, grad_fn=<NllLossBackward>)\n",
            "tensor(1.1395, grad_fn=<NllLossBackward>)\n",
            "tensor(1.8306, grad_fn=<NllLossBackward>)\n",
            "tensor(1.4313, grad_fn=<NllLossBackward>)\n",
            "tensor(1.0474, grad_fn=<NllLossBackward>)\n",
            "tensor(1.3426, grad_fn=<NllLossBackward>)\n",
            "tensor(1.0456, grad_fn=<NllLossBackward>)\n",
            "tensor(1.5139, grad_fn=<NllLossBackward>)\n",
            "tensor(2.0117, grad_fn=<NllLossBackward>)\n",
            "tensor(1.1155, grad_fn=<NllLossBackward>)\n",
            "tensor(1.2672, grad_fn=<NllLossBackward>)\n",
            "tensor(1.4829, grad_fn=<NllLossBackward>)\n",
            "tensor(1.1345, grad_fn=<NllLossBackward>)\n",
            "tensor(1.3077, grad_fn=<NllLossBackward>)\n",
            "tensor(0.8144, grad_fn=<NllLossBackward>)\n",
            "tensor(1.3016, grad_fn=<NllLossBackward>)\n",
            "tensor(1.7891, grad_fn=<NllLossBackward>)\n",
            "tensor(1.4261, grad_fn=<NllLossBackward>)\n",
            "tensor(2.0749, grad_fn=<NllLossBackward>)\n",
            "tensor(1.0795, grad_fn=<NllLossBackward>)\n",
            "tensor(1.5696, grad_fn=<NllLossBackward>)\n",
            "tensor(1.4159, grad_fn=<NllLossBackward>)\n",
            "tensor(1.0211, grad_fn=<NllLossBackward>)\n",
            "tensor(1.8439, grad_fn=<NllLossBackward>)\n",
            "tensor(0.8532, grad_fn=<NllLossBackward>)\n",
            "tensor(0.8409, grad_fn=<NllLossBackward>)\n",
            "tensor(0.7407, grad_fn=<NllLossBackward>)\n",
            "tensor(1.5928, grad_fn=<NllLossBackward>)\n",
            "tensor(1.3305, grad_fn=<NllLossBackward>)\n",
            "tensor(1.7080, grad_fn=<NllLossBackward>)\n",
            "tensor(1.2062, grad_fn=<NllLossBackward>)\n",
            "tensor(1.1401, grad_fn=<NllLossBackward>)\n",
            "tensor(1.1348, grad_fn=<NllLossBackward>)\n",
            "tensor(2.6751, grad_fn=<NllLossBackward>)\n",
            "tensor(1.3268, grad_fn=<NllLossBackward>)\n",
            "tensor(1.3444, grad_fn=<NllLossBackward>)\n",
            "tensor(1.0695, grad_fn=<NllLossBackward>)\n",
            "tensor(0.9429, grad_fn=<NllLossBackward>)\n",
            "tensor(1.3086, grad_fn=<NllLossBackward>)\n",
            "tensor(1.3996, grad_fn=<NllLossBackward>)\n",
            "tensor(1.6535, grad_fn=<NllLossBackward>)\n",
            "tensor(1.1307, grad_fn=<NllLossBackward>)\n",
            "tensor(1.2327, grad_fn=<NllLossBackward>)\n",
            "tensor(1.5393, grad_fn=<NllLossBackward>)\n",
            "tensor(1.2243, grad_fn=<NllLossBackward>)\n",
            "tensor(1.0259, grad_fn=<NllLossBackward>)\n",
            "tensor(1.6175, grad_fn=<NllLossBackward>)\n",
            "tensor(1.2799, grad_fn=<NllLossBackward>)\n",
            "tensor(1.8093, grad_fn=<NllLossBackward>)\n",
            "tensor(1.5870, grad_fn=<NllLossBackward>)\n",
            "tensor(1.2364, grad_fn=<NllLossBackward>)\n",
            "Train Accuracy for Each Epoch:  [0.3156, 0.34894, 0.41434, 0.44756, 0.4172, 0.38202, 0.47088, 0.4313, 0.48158, 0.46182, 0.48214, 0.4562, 0.479, 0.50962, 0.53582, 0.46948, 0.45862, 0.43978, 0.52564, 0.46956, 0.46982, 0.50218, 0.50066, 0.52344, 0.51696, 0.50328, 0.48418, 0.44442, 0.49788, 0.50348, 0.54286, 0.52962, 0.49164, 0.52388, 0.51762, 0.54408, 0.56612, 0.52892, 0.4839, 0.32214, 0.5443, 0.47658, 0.49998, 0.47214, 0.53096, 0.47884, 0.52132, 0.47832, 0.45918, 0.52272, 0.45414, 0.55616, 0.4834, 0.47036, 0.50174, 0.44842, 0.51144, 0.36576, 0.33058, 0.49104]\n",
            "Test Accuracy for Each Epoch:  [0.3209, 0.3485, 0.4192, 0.4317, 0.4048, 0.3808, 0.4535, 0.4134, 0.4636, 0.437, 0.4551, 0.438, 0.4608, 0.4798, 0.502, 0.4394, 0.4349, 0.4118, 0.4956, 0.4452, 0.4456, 0.4666, 0.4755, 0.4874, 0.4949, 0.4625, 0.4495, 0.4222, 0.456, 0.468, 0.4991, 0.495, 0.4631, 0.4834, 0.4827, 0.5099, 0.5199, 0.4878, 0.4482, 0.3145, 0.5037, 0.4372, 0.4681, 0.4385, 0.4938, 0.4461, 0.4797, 0.4473, 0.419, 0.4808, 0.4227, 0.5098, 0.4534, 0.4449, 0.4677, 0.4285, 0.4792, 0.3529, 0.3105, 0.4666]\n"
          ],
          "name": "stdout"
        }
      ]
    },
    {
      "cell_type": "code",
      "metadata": {
        "id": "e3DFrIFi-WxV",
        "colab_type": "code",
        "outputId": "d54c8d48-6332-40a1-8f85-4d0405accd36",
        "colab": {
          "base_uri": "https://localhost:8080/",
          "height": 34
        }
      },
      "source": [
        "#Overall train and test accuracy\n",
        "correctClassification = 0\n",
        "totalImages = 0\n",
        "\n",
        "with torch.no_grad():\n",
        "  for data in testImages:\n",
        "    img, label = data\n",
        "    output = cnn(img)\n",
        "    for i,k in enumerate(output):\n",
        "      if torch.argmax(k) == label[i]:\n",
        "        correctClassification +=1\n",
        "      totalImages +=1\n",
        "\n",
        "print (\"Accuracy: \", correctClassification/totalImages)"
      ],
      "execution_count": 0,
      "outputs": [
        {
          "output_type": "stream",
          "text": [
            "Accuracy:  0.4666\n"
          ],
          "name": "stdout"
        }
      ]
    },
    {
      "cell_type": "code",
      "metadata": {
        "id": "XlHuDlIER0gf",
        "colab_type": "code",
        "outputId": "554255b0-40c1-4464-b688-077836b19d3b",
        "colab": {
          "base_uri": "https://localhost:8080/",
          "height": 295
        }
      },
      "source": [
        "epochList = [i for i in range(1, 61)]\n",
        "plt.plot(epochList, trainingAccuracyList, label = \"Train\")\n",
        "plt.plot(epochList, testingAccuracyList, label = \"Test\")\n",
        "\n",
        "plt.xlabel('Number of Epochs') \n",
        "plt.ylabel('Accuracy')  \n",
        "plt.title('Accuracy vs Epochs') \n",
        "plt.legend()  \n",
        "plt.show() "
      ],
      "execution_count": 0,
      "outputs": [
        {
          "output_type": "display_data",
          "data": {
            "image/png": "[encoded data removed]",
            "text/plain": [
              "<Figure size 432x288 with 1 Axes>"
            ]
          },
          "metadata": {
            "tags": []
          }
        }
      ]
    },
    {
      "cell_type": "code",
      "metadata": {
        "id": "jW0yUwyPUrby",
        "colab_type": "code",
        "outputId": "ee915a9c-8bce-44e8-f6ab-7c0de6a01198",
        "colab": {
          "base_uri": "https://localhost:8080/",
          "height": 191
        }
      },
      "source": [
        "#Accuracy on each Class\n",
        "classes = ('plane', 'car', 'bird', 'cat',\n",
        "           'deer', 'dog', 'frog', 'horse', 'ship', 'truck')\n",
        "\n",
        "class_correct = list(0. for i in range(10))\n",
        "class_total = list(0. for i in range(10))\n",
        "with torch.no_grad():\n",
        "    for data in testImages:\n",
        "        images, labels = data\n",
        "        outputs = cnn(images)\n",
        "        _, predicted = torch.max(outputs, 1)\n",
        "        c = (predicted == labels).squeeze()\n",
        "        for i in range(4):\n",
        "            label = labels[i]\n",
        "            class_correct[label] += c[i].item()\n",
        "            class_total[label] += 1\n",
        "\n",
        "\n",
        "for i in range(10):\n",
        "    if(class_total[i] != 0):\n",
        "      acc = class_correct[i] / class_total[i]\n",
        "      print('Accuracy of %5s : %2d %%' % (\n",
        "          classes[i], 100 *acc ))\n",
        "    else:\n",
        "      print('Accuracy of %5s : %2d %%' % (\n",
        "          0))"
      ],
      "execution_count": 0,
      "outputs": [
        {
          "output_type": "stream",
          "text": [
            "Accuracy of plane : 40 %\n",
            "Accuracy of   car : 100 %\n",
            "Accuracy of  bird :  0 %\n",
            "Accuracy of   cat :  0 %\n",
            "Accuracy of  deer : 50 %\n",
            "Accuracy of   dog : 25 %\n",
            "Accuracy of  frog : 100 %\n",
            "Accuracy of horse : 33 %\n",
            "Accuracy of  ship :  0 %\n",
            "Accuracy of truck : 75 %\n"
          ],
          "name": "stdout"
        }
      ]
    }
  ]
}